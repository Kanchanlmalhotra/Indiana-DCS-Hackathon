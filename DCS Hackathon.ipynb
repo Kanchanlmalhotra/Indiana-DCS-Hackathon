{
 "cells": [
  {
   "cell_type": "markdown",
   "metadata": {},
   "source": [
    "# Data Analysis of Indiana DCS dataset "
   ]
  },
  {
   "cell_type": "code",
   "execution_count": null,
   "metadata": {},
   "outputs": [],
   "source": [
    "import pandas as pd\n",
    "import numpy as np\n",
    "import matplotlib as mpl\n",
    "import matplotlib.pyplot as plt\n",
    "import seaborn as sns\n",
    "from matplotlib.pyplot import show"
   ]
  },
  {
   "cell_type": "code",
   "execution_count": 144,
   "metadata": {},
   "outputs": [],
   "source": [
    "df = pd.read_csv(\"IndianaDCS.csv\")"
   ]
  },
  {
   "cell_type": "code",
   "execution_count": 130,
   "metadata": {},
   "outputs": [
    {
     "data": {
      "text/plain": [
       "(402070, 12)"
      ]
     },
     "execution_count": 130,
     "metadata": {},
     "output_type": "execute_result"
    }
   ],
   "source": [
    "df.shape"
   ]
  },
  {
   "cell_type": "code",
   "execution_count": 132,
   "metadata": {},
   "outputs": [
    {
     "data": {
      "text/html": [
       "<div>\n",
       "<style scoped>\n",
       "    .dataframe tbody tr th:only-of-type {\n",
       "        vertical-align: middle;\n",
       "    }\n",
       "\n",
       "    .dataframe tbody tr th {\n",
       "        vertical-align: top;\n",
       "    }\n",
       "\n",
       "    .dataframe thead th {\n",
       "        text-align: right;\n",
       "    }\n",
       "</style>\n",
       "<table border=\"1\" class=\"dataframe\">\n",
       "  <thead>\n",
       "    <tr style=\"text-align: right;\">\n",
       "      <th></th>\n",
       "      <th>REF_ID</th>\n",
       "      <th>SUBSTANTIATED</th>\n",
       "      <th>AGE</th>\n",
       "    </tr>\n",
       "  </thead>\n",
       "  <tbody>\n",
       "    <tr>\n",
       "      <th>count</th>\n",
       "      <td>4.020700e+05</td>\n",
       "      <td>402070.000000</td>\n",
       "      <td>402070.000000</td>\n",
       "    </tr>\n",
       "    <tr>\n",
       "      <th>mean</th>\n",
       "      <td>1.074053e+09</td>\n",
       "      <td>0.134509</td>\n",
       "      <td>6.854249</td>\n",
       "    </tr>\n",
       "    <tr>\n",
       "      <th>std</th>\n",
       "      <td>6.200160e+08</td>\n",
       "      <td>0.341199</td>\n",
       "      <td>5.471858</td>\n",
       "    </tr>\n",
       "    <tr>\n",
       "      <th>min</th>\n",
       "      <td>8.637000e+03</td>\n",
       "      <td>0.000000</td>\n",
       "      <td>0.000000</td>\n",
       "    </tr>\n",
       "    <tr>\n",
       "      <th>25%</th>\n",
       "      <td>5.373301e+08</td>\n",
       "      <td>0.000000</td>\n",
       "      <td>1.000000</td>\n",
       "    </tr>\n",
       "    <tr>\n",
       "      <th>50%</th>\n",
       "      <td>1.074143e+09</td>\n",
       "      <td>0.000000</td>\n",
       "      <td>7.000000</td>\n",
       "    </tr>\n",
       "    <tr>\n",
       "      <th>75%</th>\n",
       "      <td>1.611062e+09</td>\n",
       "      <td>0.000000</td>\n",
       "      <td>12.000000</td>\n",
       "    </tr>\n",
       "    <tr>\n",
       "      <th>max</th>\n",
       "      <td>2.147483e+09</td>\n",
       "      <td>1.000000</td>\n",
       "      <td>49.000000</td>\n",
       "    </tr>\n",
       "  </tbody>\n",
       "</table>\n",
       "</div>"
      ],
      "text/plain": [
       "             REF_ID  SUBSTANTIATED            AGE\n",
       "count  4.020700e+05  402070.000000  402070.000000\n",
       "mean   1.074053e+09       0.134509       6.854249\n",
       "std    6.200160e+08       0.341199       5.471858\n",
       "min    8.637000e+03       0.000000       0.000000\n",
       "25%    5.373301e+08       0.000000       1.000000\n",
       "50%    1.074143e+09       0.000000       7.000000\n",
       "75%    1.611062e+09       0.000000      12.000000\n",
       "max    2.147483e+09       1.000000      49.000000"
      ]
     },
     "execution_count": 132,
     "metadata": {},
     "output_type": "execute_result"
    }
   ],
   "source": [
    "df.describe()"
   ]
  },
  {
   "cell_type": "code",
   "execution_count": 133,
   "metadata": {},
   "outputs": [
    {
     "data": {
      "text/html": [
       "<div>\n",
       "<style scoped>\n",
       "    .dataframe tbody tr th:only-of-type {\n",
       "        vertical-align: middle;\n",
       "    }\n",
       "\n",
       "    .dataframe tbody tr th {\n",
       "        vertical-align: top;\n",
       "    }\n",
       "\n",
       "    .dataframe thead th {\n",
       "        text-align: right;\n",
       "    }\n",
       "</style>\n",
       "<table border=\"1\" class=\"dataframe\">\n",
       "  <thead>\n",
       "    <tr style=\"text-align: right;\">\n",
       "      <th></th>\n",
       "      <th>REF_ID</th>\n",
       "      <th>REPORT_DATE_RAW</th>\n",
       "      <th>DATETIME</th>\n",
       "      <th>COUNTY</th>\n",
       "      <th>DECISION</th>\n",
       "      <th>RESPONSE_TIME</th>\n",
       "      <th>ASM_MALTREATMENT</th>\n",
       "      <th>ASSESSMENT_DECISION</th>\n",
       "      <th>SUBSTANTIATED</th>\n",
       "      <th>PARTICIPANT</th>\n",
       "      <th>AGE</th>\n",
       "      <th>AGE_BINS</th>\n",
       "    </tr>\n",
       "  </thead>\n",
       "  <tbody>\n",
       "    <tr>\n",
       "      <th>0</th>\n",
       "      <td>1406424407</td>\n",
       "      <td>1/1/19 0:32</td>\n",
       "      <td>0019-01-01 00:32:00.000</td>\n",
       "      <td>Kosciusko</td>\n",
       "      <td>Screen In</td>\n",
       "      <td>5 days</td>\n",
       "      <td>neglect</td>\n",
       "      <td>withdrawn</td>\n",
       "      <td>0</td>\n",
       "      <td>Victim</td>\n",
       "      <td>11</td>\n",
       "      <td>9-12</td>\n",
       "    </tr>\n",
       "    <tr>\n",
       "      <th>1</th>\n",
       "      <td>490485216</td>\n",
       "      <td>1/1/19 7:16</td>\n",
       "      <td>0019-01-01 07:16:00.000</td>\n",
       "      <td>Lake</td>\n",
       "      <td>Screen In</td>\n",
       "      <td>24 hours</td>\n",
       "      <td>Physical Abuse</td>\n",
       "      <td>accepted</td>\n",
       "      <td>1</td>\n",
       "      <td>Victim</td>\n",
       "      <td>0</td>\n",
       "      <td>0-3</td>\n",
       "    </tr>\n",
       "    <tr>\n",
       "      <th>2</th>\n",
       "      <td>1773822066</td>\n",
       "      <td>1/1/19 11:34</td>\n",
       "      <td>0019-01-01 11:34:00.000</td>\n",
       "      <td>Marion</td>\n",
       "      <td>Screen In</td>\n",
       "      <td>24 hours</td>\n",
       "      <td>neglect</td>\n",
       "      <td>accepted</td>\n",
       "      <td>0</td>\n",
       "      <td>Victim</td>\n",
       "      <td>9</td>\n",
       "      <td>9-12</td>\n",
       "    </tr>\n",
       "    <tr>\n",
       "      <th>3</th>\n",
       "      <td>9124632</td>\n",
       "      <td>1/1/19 13:22</td>\n",
       "      <td>0019-01-01 13:22:00.000</td>\n",
       "      <td>Lake</td>\n",
       "      <td>Screen In</td>\n",
       "      <td>24 hours</td>\n",
       "      <td>neglect</td>\n",
       "      <td>accepted</td>\n",
       "      <td>0</td>\n",
       "      <td>Victim</td>\n",
       "      <td>5</td>\n",
       "      <td>4-8</td>\n",
       "    </tr>\n",
       "    <tr>\n",
       "      <th>4</th>\n",
       "      <td>2067805478</td>\n",
       "      <td>1/1/19 18:41</td>\n",
       "      <td>0019-01-01 18:41:00.000</td>\n",
       "      <td>Ripley</td>\n",
       "      <td>Screen In</td>\n",
       "      <td>24 hours</td>\n",
       "      <td>Physical Abuse</td>\n",
       "      <td>accepted</td>\n",
       "      <td>0</td>\n",
       "      <td>Victim</td>\n",
       "      <td>4</td>\n",
       "      <td>4-8</td>\n",
       "    </tr>\n",
       "  </tbody>\n",
       "</table>\n",
       "</div>"
      ],
      "text/plain": [
       "       REF_ID REPORT_DATE_RAW                 DATETIME     COUNTY   DECISION  \\\n",
       "0  1406424407     1/1/19 0:32  0019-01-01 00:32:00.000  Kosciusko  Screen In   \n",
       "1   490485216     1/1/19 7:16  0019-01-01 07:16:00.000       Lake  Screen In   \n",
       "2  1773822066    1/1/19 11:34  0019-01-01 11:34:00.000     Marion  Screen In   \n",
       "3     9124632    1/1/19 13:22  0019-01-01 13:22:00.000       Lake  Screen In   \n",
       "4  2067805478    1/1/19 18:41  0019-01-01 18:41:00.000     Ripley  Screen In   \n",
       "\n",
       "  RESPONSE_TIME ASM_MALTREATMENT ASSESSMENT_DECISION  SUBSTANTIATED  \\\n",
       "0        5 days          neglect           withdrawn              0   \n",
       "1      24 hours   Physical Abuse            accepted              1   \n",
       "2      24 hours          neglect            accepted              0   \n",
       "3      24 hours          neglect            accepted              0   \n",
       "4      24 hours   Physical Abuse            accepted              0   \n",
       "\n",
       "  PARTICIPANT  AGE AGE_BINS  \n",
       "0      Victim   11     9-12  \n",
       "1      Victim    0      0-3  \n",
       "2      Victim    9     9-12  \n",
       "3      Victim    5      4-8  \n",
       "4      Victim    4      4-8  "
      ]
     },
     "execution_count": 133,
     "metadata": {},
     "output_type": "execute_result"
    }
   ],
   "source": [
    "df.head()"
   ]
  },
  {
   "cell_type": "code",
   "execution_count": 4,
   "metadata": {},
   "outputs": [
    {
     "data": {
      "text/plain": [
       "REF_ID                     0\n",
       "REPORT_DATE_RAW            0\n",
       "DATETIME                   0\n",
       "COUNTY                     0\n",
       "DECISION                   0\n",
       "RESPONSE_TIME              0\n",
       "ASM_MALTREATMENT       19233\n",
       "ASSESSMENT_DECISION        0\n",
       "SUBSTANTIATED              0\n",
       "PARTICIPANT                0\n",
       "AGE                        0\n",
       "dtype: int64"
      ]
     },
     "execution_count": 4,
     "metadata": {},
     "output_type": "execute_result"
    }
   ],
   "source": [
    "# Check for Null/Missing values\n",
    "df.isnull().sum()"
   ]
  },
  {
   "cell_type": "code",
   "execution_count": 27,
   "metadata": {},
   "outputs": [
    {
     "data": {
      "text/plain": [
       "<matplotlib.axes._subplots.AxesSubplot at 0x1dce2acb490>"
      ]
     },
     "execution_count": 27,
     "metadata": {},
     "output_type": "execute_result"
    },
    {
     "data": {
      "image/png": "[encoded data removed]",
      "text/plain": [
       "<Figure size 432x288 with 1 Axes>"
      ]
     },
     "metadata": {},
     "output_type": "display_data"
    }
   ],
   "source": [
    "df.SUBSTANTIATED.value_counts().plot.pie(autopct=\"%.1f%%\")"
   ]
  },
  {
   "cell_type": "markdown",
   "metadata": {},
   "source": [
    "Only 13.5 % of the cases reported are Substantiated."
   ]
  },
  {
   "cell_type": "code",
   "execution_count": 29,
   "metadata": {},
   "outputs": [
    {
     "data": {
      "text/plain": [
       "<matplotlib.axes._subplots.AxesSubplot at 0x1dcd916dca0>"
      ]
     },
     "execution_count": 29,
     "metadata": {},
     "output_type": "execute_result"
    },
    {
     "data": {
      "image/png": "[encoded data removed]",
      "text/plain": [
       "<Figure size 864x432 with 1 Axes>"
      ]
     },
     "metadata": {
      "needs_background": "light"
     },
     "output_type": "display_data"
    }
   ],
   "source": [
    "plt.figure(figsize=(12,6))\n",
    "sns.countplot(x='ASSESSMENT_DECISION', hue= 'SUBSTANTIATED', data=df)"
   ]
  },
  {
   "cell_type": "markdown",
   "metadata": {},
   "source": [
    "Of all the Screen in applications,'accepted' is the highest ASSESSMENT_DECISION, followed by withdrawn and active."
   ]
  },
  {
   "cell_type": "code",
   "execution_count": 134,
   "metadata": {},
   "outputs": [],
   "source": [
    "# combining the Assessment_decision with negligible values to 'Other'\n",
    "df['ASSESSMENT_DECISION'] = df['ASSESSMENT_DECISION'].replace(dict.fromkeys(['active','supervisor_review',\n",
    "                                                                             'central_office_review','reopened'], 'Other'))\n"
   ]
  },
  {
   "cell_type": "code",
   "execution_count": 31,
   "metadata": {},
   "outputs": [
    {
     "data": {
      "text/plain": [
       "accepted     0.955513\n",
       "withdrawn    0.031604\n",
       "Other        0.012883\n",
       "Name: ASSESSMENT_DECISION, dtype: float64"
      ]
     },
     "execution_count": 31,
     "metadata": {},
     "output_type": "execute_result"
    }
   ],
   "source": [
    "df.ASSESSMENT_DECISION.value_counts(normalize=True)"
   ]
  },
  {
   "cell_type": "code",
   "execution_count": 34,
   "metadata": {},
   "outputs": [
    {
     "data": {
      "text/plain": [
       "<matplotlib.axes._subplots.AxesSubplot at 0x1dcd9e66040>"
      ]
     },
     "execution_count": 34,
     "metadata": {},
     "output_type": "execute_result"
    },
    {
     "data": {
      "image/png": "[encoded data removed]",
      "text/plain": [
       "<Figure size 432x288 with 1 Axes>"
      ]
     },
     "metadata": {
      "needs_background": "light"
     },
     "output_type": "display_data"
    }
   ],
   "source": [
    "\n",
    "sns.countplot(x='ASSESSMENT_DECISION', hue= 'SUBSTANTIATED', data=df)"
   ]
  },
  {
   "cell_type": "code",
   "execution_count": 35,
   "metadata": {},
   "outputs": [
    {
     "data": {
      "text/plain": [
       "24 hours    0.579939\n",
       "5 days      0.310717\n",
       "2 hours     0.075810\n",
       "1 hour      0.033534\n",
       "Name: RESPONSE_TIME, dtype: float64"
      ]
     },
     "execution_count": 35,
     "metadata": {},
     "output_type": "execute_result"
    }
   ],
   "source": [
    "#Check unique values for Response_time\n",
    "df.RESPONSE_TIME.value_counts(normalize=True)"
   ]
  },
  {
   "cell_type": "code",
   "execution_count": 62,
   "metadata": {},
   "outputs": [
    {
     "data": {
      "text/plain": [
       "<matplotlib.axes._subplots.AxesSubplot at 0x1dcdf95ab80>"
      ]
     },
     "execution_count": 62,
     "metadata": {},
     "output_type": "execute_result"
    },
    {
     "data": {
      "image/png": "[encoded data removed]",
      "text/plain": [
       "<Figure size 432x288 with 1 Axes>"
      ]
     },
     "metadata": {
      "needs_background": "light"
     },
     "output_type": "display_data"
    }
   ],
   "source": [
    "df_plot = df.groupby(['RESPONSE_TIME','SUBSTANTIATED']).size().reset_index().pivot(columns='RESPONSE_TIME', \n",
    "                                                                                   index='SUBSTANTIATED', values=0)\n",
    "df_plot.plot(kind='bar', stacked=True)"
   ]
  },
  {
   "cell_type": "code",
   "execution_count": 141,
   "metadata": {},
   "outputs": [
    {
     "data": {
      "image/png": "[encoded data removed]",
      "text/plain": [
       "<Figure size 576x360 with 1 Axes>"
      ]
     },
     "metadata": {
      "needs_background": "light"
     },
     "output_type": "display_data"
    }
   ],
   "source": [
    "#sns.countplot(x='RESPONSE_TIME',data=df,hue='SUBSTANTIATED')\n",
    "plt.figure(figsize=(8,5))\n",
    "#sns.set(style=\"darkgrid\")\n",
    "total = float(len(df))  \n",
    "ax = sns.countplot(x='RESPONSE_TIME', hue= 'SUBSTANTIATED', data=df) \n",
    "ax.set_xlabel(\"RESPONSE_TIME\")\n",
    "ax.set_ylabel(\"Percentage Substantiated\")\n",
    "for p in ax.patches:\n",
    "    height = p.get_height()\n",
    "    ax.text(p.get_x()+p.get_width()/2.,\n",
    "            height + 3,\n",
    "            '{:1.0f}%'.format(height * 100/total),\n",
    "            ha=\"center\") \n",
    "show()"
   ]
  },
  {
   "cell_type": "markdown",
   "metadata": {},
   "source": [
    "Approximately 49% of the Screened in cases had 24 hour response time and 29% of the cases had 5 days response time. Only 3% of the Screened in cases had 1 hour response time and 6% of the cases had 2 hour response time. Approximately 9 % of the overall cases reported are classified as life threatening."
   ]
  },
  {
   "cell_type": "code",
   "execution_count": 136,
   "metadata": {},
   "outputs": [
    {
     "data": {
      "text/plain": [
       "<matplotlib.axes._subplots.AxesSubplot at 0x1dce89efd00>"
      ]
     },
     "execution_count": 136,
     "metadata": {},
     "output_type": "execute_result"
    },
    {
     "data": {
      "image/png": "[encoded data removed]",
      "text/plain": [
       "<Figure size 864x432 with 1 Axes>"
      ]
     },
     "metadata": {
      "needs_background": "light"
     },
     "output_type": "display_data"
    }
   ],
   "source": [
    "plt.figure(figsize=(12,6))\n",
    "sns.countplot(x='AGE',data=df,hue='SUBSTANTIATED')"
   ]
  },
  {
   "cell_type": "markdown",
   "metadata": {},
   "source": [
    "Highest # of cases reported are for the age 0. Age distribution ranges from 0 to 49. "
   ]
  },
  {
   "cell_type": "code",
   "execution_count": 52,
   "metadata": {},
   "outputs": [
    {
     "data": {
      "text/html": [
       "<div>\n",
       "<style scoped>\n",
       "    .dataframe tbody tr th:only-of-type {\n",
       "        vertical-align: middle;\n",
       "    }\n",
       "\n",
       "    .dataframe tbody tr th {\n",
       "        vertical-align: top;\n",
       "    }\n",
       "\n",
       "    .dataframe thead th {\n",
       "        text-align: right;\n",
       "    }\n",
       "</style>\n",
       "<table border=\"1\" class=\"dataframe\">\n",
       "  <thead>\n",
       "    <tr style=\"text-align: right;\">\n",
       "      <th></th>\n",
       "      <th>AGE</th>\n",
       "      <th>AGE_BINS</th>\n",
       "    </tr>\n",
       "  </thead>\n",
       "  <tbody>\n",
       "    <tr>\n",
       "      <th>0</th>\n",
       "      <td>11</td>\n",
       "      <td>9-12</td>\n",
       "    </tr>\n",
       "    <tr>\n",
       "      <th>1</th>\n",
       "      <td>0</td>\n",
       "      <td>0-3</td>\n",
       "    </tr>\n",
       "    <tr>\n",
       "      <th>2</th>\n",
       "      <td>9</td>\n",
       "      <td>9-12</td>\n",
       "    </tr>\n",
       "    <tr>\n",
       "      <th>3</th>\n",
       "      <td>5</td>\n",
       "      <td>4-8</td>\n",
       "    </tr>\n",
       "    <tr>\n",
       "      <th>4</th>\n",
       "      <td>4</td>\n",
       "      <td>4-8</td>\n",
       "    </tr>\n",
       "  </tbody>\n",
       "</table>\n",
       "</div>"
      ],
      "text/plain": [
       "   AGE AGE_BINS\n",
       "0   11     9-12\n",
       "1    0      0-3\n",
       "2    9     9-12\n",
       "3    5      4-8\n",
       "4    4      4-8"
      ]
     },
     "execution_count": 52,
     "metadata": {},
     "output_type": "execute_result"
    }
   ],
   "source": [
    "# Combining the age in bins\n",
    "df['AGE_BINS'] = pd.cut(x=df['AGE'], bins=[-np.inf, 3, 8, 12, 18, 25, 49],\n",
    "                        labels=['0-3', '4-8', '9-12', '13-18', '19-25', 'Other'])\n",
    "df[['AGE', 'AGE_BINS']].head()"
   ]
  },
  {
   "cell_type": "code",
   "execution_count": 53,
   "metadata": {},
   "outputs": [
    {
     "data": {
      "text/plain": [
       "0-3      0.347972\n",
       "4-8      0.254762\n",
       "13-18    0.202798\n",
       "9-12     0.194327\n",
       "Other    0.000087\n",
       "19-25    0.000055\n",
       "Name: AGE_BINS, dtype: float64"
      ]
     },
     "execution_count": 53,
     "metadata": {},
     "output_type": "execute_result"
    }
   ],
   "source": [
    "df['AGE_BINS'].value_counts(normalize=True)"
   ]
  },
  {
   "cell_type": "code",
   "execution_count": 140,
   "metadata": {
    "scrolled": true
   },
   "outputs": [
    {
     "data": {
      "image/png": "[encoded data removed]",
      "text/plain": [
       "<Figure size 576x360 with 1 Axes>"
      ]
     },
     "metadata": {
      "needs_background": "light"
     },
     "output_type": "display_data"
    }
   ],
   "source": [
    "plt.figure(figsize=(8,5))\n",
    "#sns.set(style=\"darkgrid\")\n",
    "total = float(len(df))  \n",
    "ax = sns.countplot(x='AGE_BINS', hue= 'SUBSTANTIATED', data=df) \n",
    "ax.set_xlabel(\"Age Bins\")\n",
    "ax.set_ylabel(\"Percentage Substantiated\")\n",
    "for p in ax.patches:\n",
    "    height = p.get_height()\n",
    "    ax.text(p.get_x()+p.get_width()/2.,\n",
    "            height + 3,\n",
    "            '{:1.0f}%'.format(height * 100/total),\n",
    "            ha=\"center\") \n",
    "show()"
   ]
  },
  {
   "cell_type": "markdown",
   "metadata": {},
   "source": [
    "29% of the cases reported are for children of age group 0-3, followed by 4-8 group at 22% and 13-18 at 18%."
   ]
  },
  {
   "cell_type": "code",
   "execution_count": 55,
   "metadata": {},
   "outputs": [
    {
     "data": {
      "text/html": [
       "<div>\n",
       "<style scoped>\n",
       "    .dataframe tbody tr th:only-of-type {\n",
       "        vertical-align: middle;\n",
       "    }\n",
       "\n",
       "    .dataframe tbody tr th {\n",
       "        vertical-align: top;\n",
       "    }\n",
       "\n",
       "    .dataframe thead th {\n",
       "        text-align: right;\n",
       "    }\n",
       "</style>\n",
       "<table border=\"1\" class=\"dataframe\">\n",
       "  <thead>\n",
       "    <tr style=\"text-align: right;\">\n",
       "      <th></th>\n",
       "      <th>COUNTY</th>\n",
       "      <th>REF_ID</th>\n",
       "    </tr>\n",
       "  </thead>\n",
       "  <tbody>\n",
       "    <tr>\n",
       "      <th>49</th>\n",
       "      <td>Marion</td>\n",
       "      <td>66294</td>\n",
       "    </tr>\n",
       "    <tr>\n",
       "      <th>1</th>\n",
       "      <td>Allen</td>\n",
       "      <td>21774</td>\n",
       "    </tr>\n",
       "    <tr>\n",
       "      <th>45</th>\n",
       "      <td>Lake</td>\n",
       "      <td>19482</td>\n",
       "    </tr>\n",
       "    <tr>\n",
       "      <th>71</th>\n",
       "      <td>Saint Joseph</td>\n",
       "      <td>18529</td>\n",
       "    </tr>\n",
       "    <tr>\n",
       "      <th>82</th>\n",
       "      <td>Vanderburgh</td>\n",
       "      <td>11779</td>\n",
       "    </tr>\n",
       "    <tr>\n",
       "      <th>19</th>\n",
       "      <td>Elkhart</td>\n",
       "      <td>11625</td>\n",
       "    </tr>\n",
       "    <tr>\n",
       "      <th>79</th>\n",
       "      <td>Tippecanoe</td>\n",
       "      <td>11480</td>\n",
       "    </tr>\n",
       "    <tr>\n",
       "      <th>84</th>\n",
       "      <td>Vigo</td>\n",
       "      <td>11258</td>\n",
       "    </tr>\n",
       "    <tr>\n",
       "      <th>48</th>\n",
       "      <td>Madison</td>\n",
       "      <td>10003</td>\n",
       "    </tr>\n",
       "    <tr>\n",
       "      <th>17</th>\n",
       "      <td>Delaware</td>\n",
       "      <td>8807</td>\n",
       "    </tr>\n",
       "  </tbody>\n",
       "</table>\n",
       "</div>"
      ],
      "text/plain": [
       "          COUNTY  REF_ID\n",
       "49        Marion   66294\n",
       "1          Allen   21774\n",
       "45          Lake   19482\n",
       "71  Saint Joseph   18529\n",
       "82   Vanderburgh   11779\n",
       "19       Elkhart   11625\n",
       "79    Tippecanoe   11480\n",
       "84          Vigo   11258\n",
       "48       Madison   10003\n",
       "17      Delaware    8807"
      ]
     },
     "execution_count": 55,
     "metadata": {},
     "output_type": "execute_result"
    }
   ],
   "source": [
    "df_county = df.groupby(['COUNTY'],as_index=False)['REF_ID'].count()\n",
    "df_county_sorted = df_county.sort_values('REF_ID',ascending=False)\n",
    "df_county_sorted.head(10)"
   ]
  },
  {
   "cell_type": "code",
   "execution_count": 147,
   "metadata": {},
   "outputs": [
    {
     "data": {
      "text/plain": [
       "<matplotlib.axes._subplots.AxesSubplot at 0x1dce9599af0>"
      ]
     },
     "execution_count": 147,
     "metadata": {},
     "output_type": "execute_result"
    },
    {
     "data": {
      "image/png": "[encoded data removed]",
      "text/plain": [
       "<Figure size 432x288 with 1 Axes>"
      ]
     },
     "metadata": {
      "needs_background": "light"
     },
     "output_type": "display_data"
    }
   ],
   "source": [
    "# Top 10 Counties by # of cases\n",
    "df_county_sorted.head(10).plot(kind='bar',x='COUNTY')\n"
   ]
  },
  {
   "cell_type": "markdown",
   "metadata": {},
   "source": [
    "Marion county reported the highest number of cases, followed by Allen and Lake. See above for the top 10 counties contributing to the total cases."
   ]
  },
  {
   "cell_type": "code",
   "execution_count": 145,
   "metadata": {},
   "outputs": [
    {
     "data": {
      "text/plain": [
       "neglect                                                         255023\n",
       "neglect,physical abuse                                           60363\n",
       "physical abuse                                                   20919\n",
       "sexual abuse                                                     18684\n",
       "neglect,sexual abuse                                             17091\n",
       "neglect,physical abuse,sexual abuse                               7951\n",
       "physical abuse,sexual abuse                                       1700\n",
       "human/sexual trafficking,neglect,sexual abuse                      456\n",
       "human/sexual trafficking,sexual abuse                              246\n",
       "human/sexual trafficking,neglect,physical abuse,sexual abuse       241\n",
       "human/sexual trafficking,neglect                                    81\n",
       "human/sexual trafficking                                            34\n",
       "human/sexual trafficking,physical abuse,sexual abuse                25\n",
       "human/sexual trafficking,neglect,physical abuse                     18\n",
       "human/sexual trafficking,physical abuse                              5\n",
       "Name: ASM_MALTREATMENT, dtype: int64"
      ]
     },
     "execution_count": 145,
     "metadata": {},
     "output_type": "execute_result"
    }
   ],
   "source": [
    "df.ASM_MALTREATMENT.value_counts()"
   ]
  },
  {
   "cell_type": "markdown",
   "metadata": {},
   "source": [
    "Combining the ASM_MALTREATMENT to broader categories for analysis purposes."
   ]
  },
  {
   "cell_type": "code",
   "execution_count": 58,
   "metadata": {},
   "outputs": [],
   "source": [
    "df['ASM_MALTREATMENT'] = df['ASM_MALTREATMENT'].replace(dict.fromkeys(['neglect,physical abuse,sexual abuse',\n",
    "                                                                       'physical abuse,sexual abuse'],'Physical/Sexual Abuse'))"
   ]
  },
  {
   "cell_type": "code",
   "execution_count": 59,
   "metadata": {},
   "outputs": [],
   "source": [
    "df['ASM_MALTREATMENT'] = df['ASM_MALTREATMENT'].replace(dict.fromkeys(['neglect,physical abuse',\n",
    "                                                                       'physical abuse'],'Physical Abuse'))"
   ]
  },
  {
   "cell_type": "code",
   "execution_count": 21,
   "metadata": {},
   "outputs": [],
   "source": [
    "df['ASM_MALTREATMENT'] = df['ASM_MALTREATMENT'].replace(dict.fromkeys(['neglect,sexual abuse',\n",
    "                                                                       'sexual abuse'],'Sexual Abuse'))"
   ]
  },
  {
   "cell_type": "code",
   "execution_count": 60,
   "metadata": {},
   "outputs": [],
   "source": [
    "df['ASM_MALTREATMENT'] = df['ASM_MALTREATMENT'].replace(dict.fromkeys(['human/sexual trafficking,neglect,sexual abuse',\n",
    "                                                                       'human/sexual trafficking,sexual abuse',\n",
    "                                                                       'human/sexual trafficking,neglect,physical abuse,sexual abuse',\n",
    "                                                                       'human/sexual trafficking,neglect',\n",
    "                                                                       'human/sexual trafficking',\n",
    "                                                                       'human/sexual trafficking,physical abuse,sexual abuse',\n",
    "                                                                       'human/sexual trafficking,neglect,physical abuse',\n",
    "                                                                       'human/sexual trafficking,physical abuse'],'Human Trafficking'))"
   ]
  },
  {
   "cell_type": "code",
   "execution_count": 57,
   "metadata": {},
   "outputs": [
    {
     "data": {
      "text/plain": [
       "neglect                  0.666140\n",
       "Physical Abuse           0.212315\n",
       "Sexual Abuse             0.093447\n",
       "Physical/Sexual Abuse    0.025209\n",
       "Human Trafficking        0.002889\n",
       "Name: ASM_MALTREATMENT, dtype: float64"
      ]
     },
     "execution_count": 57,
     "metadata": {},
     "output_type": "execute_result"
    }
   ],
   "source": [
    "df['ASM_MALTREATMENT'].value_counts(normalize=True)"
   ]
  },
  {
   "cell_type": "code",
   "execution_count": 72,
   "metadata": {},
   "outputs": [
    {
     "data": {
      "text/plain": [
       "<matplotlib.axes._subplots.AxesSubplot at 0x1dce3cb4070>"
      ]
     },
     "execution_count": 72,
     "metadata": {},
     "output_type": "execute_result"
    },
    {
     "data": {
      "text/plain": [
       "<Figure size 1440x720 with 0 Axes>"
      ]
     },
     "metadata": {},
     "output_type": "display_data"
    },
    {
     "data": {
      "image/png": "[encoded data removed]",
      "text/plain": [
       "<Figure size 432x288 with 1 Axes>"
      ]
     },
     "metadata": {
      "needs_background": "light"
     },
     "output_type": "display_data"
    }
   ],
   "source": [
    "plt.figure(figsize=(20,10))\n",
    "df.groupby(['ASM_MALTREATMENT','SUBSTANTIATED']).size().unstack().plot(kind='barh',stacked=True)"
   ]
  },
  {
   "cell_type": "markdown",
   "metadata": {},
   "source": [
    "Neglect constitues approximately 67% of the cases reported.21% of the cases fall into Physical abuse and 9% are Sexual abuse cases.Cases with Physical/Sexual abuse and human Trafficking form less than 1% of the total population."
   ]
  },
  {
   "cell_type": "code",
   "execution_count": 79,
   "metadata": {},
   "outputs": [
    {
     "name": "stdout",
     "output_type": "stream",
     "text": [
      "167682\n"
     ]
    },
    {
     "data": {
      "text/html": [
       "<div>\n",
       "<style scoped>\n",
       "    .dataframe tbody tr th:only-of-type {\n",
       "        vertical-align: middle;\n",
       "    }\n",
       "\n",
       "    .dataframe tbody tr th {\n",
       "        vertical-align: top;\n",
       "    }\n",
       "\n",
       "    .dataframe thead th {\n",
       "        text-align: right;\n",
       "    }\n",
       "</style>\n",
       "<table border=\"1\" class=\"dataframe\">\n",
       "  <thead>\n",
       "    <tr style=\"text-align: right;\">\n",
       "      <th></th>\n",
       "      <th>REF_ID</th>\n",
       "      <th>Count</th>\n",
       "    </tr>\n",
       "  </thead>\n",
       "  <tbody>\n",
       "    <tr>\n",
       "      <th>118221</th>\n",
       "      <td>1177646816</td>\n",
       "      <td>32</td>\n",
       "    </tr>\n",
       "    <tr>\n",
       "      <th>11859</th>\n",
       "      <td>119600451</td>\n",
       "      <td>31</td>\n",
       "    </tr>\n",
       "    <tr>\n",
       "      <th>132817</th>\n",
       "      <td>1322048963</td>\n",
       "      <td>31</td>\n",
       "    </tr>\n",
       "    <tr>\n",
       "      <th>86268</th>\n",
       "      <td>859782401</td>\n",
       "      <td>30</td>\n",
       "    </tr>\n",
       "    <tr>\n",
       "      <th>162267</th>\n",
       "      <td>1617524825</td>\n",
       "      <td>29</td>\n",
       "    </tr>\n",
       "    <tr>\n",
       "      <th>...</th>\n",
       "      <td>...</td>\n",
       "      <td>...</td>\n",
       "    </tr>\n",
       "    <tr>\n",
       "      <th>94847</th>\n",
       "      <td>945466587</td>\n",
       "      <td>2</td>\n",
       "    </tr>\n",
       "    <tr>\n",
       "      <th>94857</th>\n",
       "      <td>945597766</td>\n",
       "      <td>2</td>\n",
       "    </tr>\n",
       "    <tr>\n",
       "      <th>94863</th>\n",
       "      <td>945626246</td>\n",
       "      <td>2</td>\n",
       "    </tr>\n",
       "    <tr>\n",
       "      <th>94867</th>\n",
       "      <td>945660484</td>\n",
       "      <td>2</td>\n",
       "    </tr>\n",
       "    <tr>\n",
       "      <th>215674</th>\n",
       "      <td>2147482881</td>\n",
       "      <td>2</td>\n",
       "    </tr>\n",
       "  </tbody>\n",
       "</table>\n",
       "<p>83841 rows × 2 columns</p>\n",
       "</div>"
      ],
      "text/plain": [
       "            REF_ID  Count\n",
       "118221  1177646816     32\n",
       "11859    119600451     31\n",
       "132817  1322048963     31\n",
       "86268    859782401     30\n",
       "162267  1617524825     29\n",
       "...            ...    ...\n",
       "94847    945466587      2\n",
       "94857    945597766      2\n",
       "94863    945626246      2\n",
       "94867    945660484      2\n",
       "215674  2147482881      2\n",
       "\n",
       "[83841 rows x 2 columns]"
      ]
     },
     "execution_count": 79,
     "metadata": {},
     "output_type": "execute_result"
    }
   ],
   "source": [
    "# Returning Cases\n",
    "returning_cases = df.groupby('REF_ID')['REF_ID'].count()\n",
    "returning_cases = returning_cases.rename('Count').reset_index()\n",
    "returning_cases = returning_cases[returning_cases.Count > 1]\n",
    "print(returning_cases.size)\n",
    "returning_cases.sort_values('Count',ascending=False)"
   ]
  },
  {
   "cell_type": "code",
   "execution_count": 87,
   "metadata": {
    "scrolled": true
   },
   "outputs": [
    {
     "data": {
      "text/html": [
       "<div>\n",
       "<style scoped>\n",
       "    .dataframe tbody tr th:only-of-type {\n",
       "        vertical-align: middle;\n",
       "    }\n",
       "\n",
       "    .dataframe tbody tr th {\n",
       "        vertical-align: top;\n",
       "    }\n",
       "\n",
       "    .dataframe thead th {\n",
       "        text-align: right;\n",
       "    }\n",
       "</style>\n",
       "<table border=\"1\" class=\"dataframe\">\n",
       "  <thead>\n",
       "    <tr style=\"text-align: right;\">\n",
       "      <th></th>\n",
       "      <th>REF_ID</th>\n",
       "      <th>COUNTY</th>\n",
       "      <th>Count</th>\n",
       "    </tr>\n",
       "  </thead>\n",
       "  <tbody>\n",
       "    <tr>\n",
       "      <th>92051</th>\n",
       "      <td>859782401</td>\n",
       "      <td>Saint Joseph</td>\n",
       "      <td>30</td>\n",
       "    </tr>\n",
       "    <tr>\n",
       "      <th>173093</th>\n",
       "      <td>1617524825</td>\n",
       "      <td>Floyd</td>\n",
       "      <td>29</td>\n",
       "    </tr>\n",
       "    <tr>\n",
       "      <th>178734</th>\n",
       "      <td>1671395618</td>\n",
       "      <td>Marion</td>\n",
       "      <td>28</td>\n",
       "    </tr>\n",
       "    <tr>\n",
       "      <th>141717</th>\n",
       "      <td>1322048963</td>\n",
       "      <td>Tippecanoe</td>\n",
       "      <td>26</td>\n",
       "    </tr>\n",
       "    <tr>\n",
       "      <th>111116</th>\n",
       "      <td>1036983025</td>\n",
       "      <td>Marion</td>\n",
       "      <td>26</td>\n",
       "    </tr>\n",
       "    <tr>\n",
       "      <th>158788</th>\n",
       "      <td>1483945848</td>\n",
       "      <td>Vigo</td>\n",
       "      <td>26</td>\n",
       "    </tr>\n",
       "    <tr>\n",
       "      <th>43959</th>\n",
       "      <td>411964690</td>\n",
       "      <td>Boone</td>\n",
       "      <td>26</td>\n",
       "    </tr>\n",
       "    <tr>\n",
       "      <th>21837</th>\n",
       "      <td>205050779</td>\n",
       "      <td>Allen</td>\n",
       "      <td>25</td>\n",
       "    </tr>\n",
       "    <tr>\n",
       "      <th>110142</th>\n",
       "      <td>1028344350</td>\n",
       "      <td>Bartholomew</td>\n",
       "      <td>24</td>\n",
       "    </tr>\n",
       "    <tr>\n",
       "      <th>138444</th>\n",
       "      <td>1291265257</td>\n",
       "      <td>Bartholomew</td>\n",
       "      <td>24</td>\n",
       "    </tr>\n",
       "    <tr>\n",
       "      <th>46087</th>\n",
       "      <td>430696575</td>\n",
       "      <td>Marion</td>\n",
       "      <td>24</td>\n",
       "    </tr>\n",
       "    <tr>\n",
       "      <th>166011</th>\n",
       "      <td>1550992681</td>\n",
       "      <td>Boone</td>\n",
       "      <td>24</td>\n",
       "    </tr>\n",
       "    <tr>\n",
       "      <th>226312</th>\n",
       "      <td>2113040996</td>\n",
       "      <td>Fayette</td>\n",
       "      <td>24</td>\n",
       "    </tr>\n",
       "    <tr>\n",
       "      <th>126136</th>\n",
       "      <td>1177646816</td>\n",
       "      <td>Greene</td>\n",
       "      <td>24</td>\n",
       "    </tr>\n",
       "    <tr>\n",
       "      <th>114655</th>\n",
       "      <td>1070267753</td>\n",
       "      <td>Wayne</td>\n",
       "      <td>24</td>\n",
       "    </tr>\n",
       "    <tr>\n",
       "      <th>12681</th>\n",
       "      <td>119976606</td>\n",
       "      <td>Steuben</td>\n",
       "      <td>23</td>\n",
       "    </tr>\n",
       "    <tr>\n",
       "      <th>172891</th>\n",
       "      <td>1615648528</td>\n",
       "      <td>Vigo</td>\n",
       "      <td>23</td>\n",
       "    </tr>\n",
       "    <tr>\n",
       "      <th>128157</th>\n",
       "      <td>1196699318</td>\n",
       "      <td>Fayette</td>\n",
       "      <td>23</td>\n",
       "    </tr>\n",
       "    <tr>\n",
       "      <th>88967</th>\n",
       "      <td>831022992</td>\n",
       "      <td>Saint Joseph</td>\n",
       "      <td>23</td>\n",
       "    </tr>\n",
       "    <tr>\n",
       "      <th>12644</th>\n",
       "      <td>119600451</td>\n",
       "      <td>Greene</td>\n",
       "      <td>23</td>\n",
       "    </tr>\n",
       "  </tbody>\n",
       "</table>\n",
       "</div>"
      ],
      "text/plain": [
       "            REF_ID        COUNTY  Count\n",
       "92051    859782401  Saint Joseph     30\n",
       "173093  1617524825         Floyd     29\n",
       "178734  1671395618        Marion     28\n",
       "141717  1322048963    Tippecanoe     26\n",
       "111116  1036983025        Marion     26\n",
       "158788  1483945848          Vigo     26\n",
       "43959    411964690         Boone     26\n",
       "21837    205050779         Allen     25\n",
       "110142  1028344350   Bartholomew     24\n",
       "138444  1291265257   Bartholomew     24\n",
       "46087    430696575        Marion     24\n",
       "166011  1550992681         Boone     24\n",
       "226312  2113040996       Fayette     24\n",
       "126136  1177646816        Greene     24\n",
       "114655  1070267753         Wayne     24\n",
       "12681    119976606       Steuben     23\n",
       "172891  1615648528          Vigo     23\n",
       "128157  1196699318       Fayette     23\n",
       "88967    831022992  Saint Joseph     23\n",
       "12644    119600451        Greene     23"
      ]
     },
     "execution_count": 87,
     "metadata": {},
     "output_type": "execute_result"
    }
   ],
   "source": [
    "# Unique cases by county\n",
    "cases_by_county = df.groupby(['REF_ID','COUNTY'])['REF_ID'].count()\n",
    "cases_by_county = cases_by_county.rename('Count').reset_index()\n",
    "cases_by_county_sorted = cases_by_county.sort_values('Count',ascending=False)\n",
    "cases_by_county_sorted.head(20) \n"
   ]
  },
  {
   "cell_type": "code",
   "execution_count": 106,
   "metadata": {},
   "outputs": [
    {
     "data": {
      "text/html": [
       "<div>\n",
       "<style scoped>\n",
       "    .dataframe tbody tr th:only-of-type {\n",
       "        vertical-align: middle;\n",
       "    }\n",
       "\n",
       "    .dataframe tbody tr th {\n",
       "        vertical-align: top;\n",
       "    }\n",
       "\n",
       "    .dataframe thead th {\n",
       "        text-align: right;\n",
       "    }\n",
       "</style>\n",
       "<table border=\"1\" class=\"dataframe\">\n",
       "  <thead>\n",
       "    <tr style=\"text-align: right;\">\n",
       "      <th></th>\n",
       "      <th>COUNTY</th>\n",
       "      <th>SUBSTANTIATED</th>\n",
       "      <th>REF_ID</th>\n",
       "    </tr>\n",
       "  </thead>\n",
       "  <tbody>\n",
       "    <tr>\n",
       "      <th>0</th>\n",
       "      <td>Adams</td>\n",
       "      <td>0</td>\n",
       "      <td>1265</td>\n",
       "    </tr>\n",
       "    <tr>\n",
       "      <th>1</th>\n",
       "      <td>Adams</td>\n",
       "      <td>1</td>\n",
       "      <td>342</td>\n",
       "    </tr>\n",
       "    <tr>\n",
       "      <th>2</th>\n",
       "      <td>Allen</td>\n",
       "      <td>0</td>\n",
       "      <td>19449</td>\n",
       "    </tr>\n",
       "    <tr>\n",
       "      <th>3</th>\n",
       "      <td>Allen</td>\n",
       "      <td>1</td>\n",
       "      <td>2325</td>\n",
       "    </tr>\n",
       "    <tr>\n",
       "      <th>4</th>\n",
       "      <td>Bartholomew</td>\n",
       "      <td>0</td>\n",
       "      <td>5115</td>\n",
       "    </tr>\n",
       "    <tr>\n",
       "      <th>...</th>\n",
       "      <td>...</td>\n",
       "      <td>...</td>\n",
       "      <td>...</td>\n",
       "    </tr>\n",
       "    <tr>\n",
       "      <th>181</th>\n",
       "      <td>Wells</td>\n",
       "      <td>1</td>\n",
       "      <td>164</td>\n",
       "    </tr>\n",
       "    <tr>\n",
       "      <th>182</th>\n",
       "      <td>White</td>\n",
       "      <td>0</td>\n",
       "      <td>1461</td>\n",
       "    </tr>\n",
       "    <tr>\n",
       "      <th>183</th>\n",
       "      <td>White</td>\n",
       "      <td>1</td>\n",
       "      <td>213</td>\n",
       "    </tr>\n",
       "    <tr>\n",
       "      <th>184</th>\n",
       "      <td>Whitley</td>\n",
       "      <td>0</td>\n",
       "      <td>1389</td>\n",
       "    </tr>\n",
       "    <tr>\n",
       "      <th>185</th>\n",
       "      <td>Whitley</td>\n",
       "      <td>1</td>\n",
       "      <td>150</td>\n",
       "    </tr>\n",
       "  </tbody>\n",
       "</table>\n",
       "<p>186 rows × 3 columns</p>\n",
       "</div>"
      ],
      "text/plain": [
       "          COUNTY  SUBSTANTIATED  REF_ID\n",
       "0          Adams              0    1265\n",
       "1          Adams              1     342\n",
       "2          Allen              0   19449\n",
       "3          Allen              1    2325\n",
       "4    Bartholomew              0    5115\n",
       "..           ...            ...     ...\n",
       "181        Wells              1     164\n",
       "182        White              0    1461\n",
       "183        White              1     213\n",
       "184      Whitley              0    1389\n",
       "185      Whitley              1     150\n",
       "\n",
       "[186 rows x 3 columns]"
      ]
     },
     "execution_count": 106,
     "metadata": {},
     "output_type": "execute_result"
    }
   ],
   "source": [
    "df_substantiated= df.groupby(['COUNTY','SUBSTANTIATED'],as_index=False)['REF_ID'].count()\n",
    "#df_substantiated = pd.DataFrame(df_substantiated)\n",
    "df_substantiated"
   ]
  }
 ],
 "metadata": {
  "kernelspec": {
   "display_name": "Python 3",
   "language": "python",
   "name": "python3"
  },
  "language_info": {
   "codemirror_mode": {
    "name": "ipython",
    "version": 3
   },
   "file_extension": ".py",
   "mimetype": "text/x-python",
   "name": "python",
   "nbconvert_exporter": "python",
   "pygments_lexer": "ipython3",
   "version": "3.8.3"
  }
 },
 "nbformat": 4,
 "nbformat_minor": 4
}
